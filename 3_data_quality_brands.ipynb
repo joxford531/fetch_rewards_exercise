{
 "cells": [
  {
   "cell_type": "code",
   "execution_count": 1,
   "id": "3dcc7981-2ab0-488e-a78e-434fafb2cc03",
   "metadata": {
    "editable": true,
    "slideshow": {
     "slide_type": ""
    },
    "tags": []
   },
   "outputs": [],
   "source": [
    "from pyspark.sql import SparkSession\n",
    "from pyspark.sql.functions import col, lower\n",
    "from pyspark.sql.types import StringType"
   ]
  },
  {
   "cell_type": "code",
   "execution_count": 2,
   "id": "cdb2077e-b68c-4bc2-80fb-d03f833284ce",
   "metadata": {},
   "outputs": [
    {
     "name": "stderr",
     "output_type": "stream",
     "text": [
      "25/05/14 22:29:00 WARN Utils: Your hostname, Johns-MacBook-Pro.local resolves to a loopback address: 127.0.0.1; using 10.0.0.130 instead (on interface en0)\n",
      "25/05/14 22:29:00 WARN Utils: Set SPARK_LOCAL_IP if you need to bind to another address\n",
      "Setting default log level to \"WARN\".\n",
      "To adjust logging level use sc.setLogLevel(newLevel). For SparkR, use setLogLevel(newLevel).\n",
      "25/05/14 22:29:00 WARN NativeCodeLoader: Unable to load native-hadoop library for your platform... using builtin-java classes where applicable\n"
     ]
    }
   ],
   "source": [
    "# Initialize a Spark session\n",
    "spark = SparkSession.builder \\\n",
    "    .appName(\"Fetch Rewards Exercise\") \\\n",
    "    .getOrCreate()"
   ]
  },
  {
   "cell_type": "code",
   "execution_count": 3,
   "id": "8ec09535-a2ca-468e-a93c-dce077c0e3ea",
   "metadata": {
    "editable": true,
    "slideshow": {
     "slide_type": ""
    },
    "tags": []
   },
   "outputs": [],
   "source": [
    "brandsDF = spark.read.json(\"brands.jsonl\")"
   ]
  },
  {
   "cell_type": "code",
   "execution_count": 4,
   "id": "bc9c0886-c0df-4bec-ac22-0d79039fc2d8",
   "metadata": {
    "scrolled": true
   },
   "outputs": [
    {
     "name": "stdout",
     "output_type": "stream",
     "text": [
      "root\n",
      " |-- _id: struct (nullable = true)\n",
      " |    |-- $oid: string (nullable = true)\n",
      " |-- barcode: string (nullable = true)\n",
      " |-- brandCode: string (nullable = true)\n",
      " |-- category: string (nullable = true)\n",
      " |-- categoryCode: string (nullable = true)\n",
      " |-- cpg: struct (nullable = true)\n",
      " |    |-- $id: struct (nullable = true)\n",
      " |    |    |-- $oid: string (nullable = true)\n",
      " |    |-- $ref: string (nullable = true)\n",
      " |-- name: string (nullable = true)\n",
      " |-- topBrand: boolean (nullable = true)\n",
      "\n"
     ]
    }
   ],
   "source": [
    "brandsDF.printSchema()"
   ]
  },
  {
   "cell_type": "markdown",
   "id": "e4d014f3-e458-4021-bade-6f2cab132e60",
   "metadata": {},
   "source": [
    "#### Print the number of lines of JSON objects, i.e. number of Brands in the file"
   ]
  },
  {
   "cell_type": "code",
   "execution_count": 5,
   "id": "e7dc2e47-8446-4f2e-873e-bb92addf7bfa",
   "metadata": {
    "scrolled": true
   },
   "outputs": [
    {
     "data": {
      "text/plain": [
       "1167"
      ]
     },
     "execution_count": 5,
     "metadata": {},
     "output_type": "execute_result"
    }
   ],
   "source": [
    "brandsDF.count()"
   ]
  },
  {
   "cell_type": "markdown",
   "id": "3086d88a-196e-478e-8cb9-2a7f2b5aca1c",
   "metadata": {},
   "source": [
    "#### Roughly half the Brand JSON objects do not have a field for `topBrand`\n",
    "* This means that when generating metrics from Receipts you can't group by this field on all brands\n",
    "* There are many Brands that do have a `topBrand` field that is `false` so we can't assume those without a field aren't a top brand\n",
    "\n",
    "For refernce adding a `~` character negates the condition"
   ]
  },
  {
   "cell_type": "code",
   "execution_count": 6,
   "id": "d9b10a9e-2e63-48aa-8513-d5ed58eb6e43",
   "metadata": {
    "editable": true,
    "scrolled": true,
    "slideshow": {
     "slide_type": ""
    },
    "tags": []
   },
   "outputs": [
    {
     "data": {
      "text/plain": [
       "612"
      ]
     },
     "execution_count": 6,
     "metadata": {},
     "output_type": "execute_result"
    }
   ],
   "source": [
    "brandsDF.filter(col(\"topBrand\").isNull()).count()"
   ]
  },
  {
   "cell_type": "markdown",
   "id": "53dc677c-d5a1-49e5-a53c-ba1bb0805e64",
   "metadata": {},
   "source": [
    "Print the number of Brands that have a `topBrand` field which is set to `false`"
   ]
  },
  {
   "cell_type": "code",
   "execution_count": 7,
   "id": "5c6a678b-cb7a-4080-9808-d7cfd440db67",
   "metadata": {
    "editable": true,
    "slideshow": {
     "slide_type": ""
    },
    "tags": []
   },
   "outputs": [
    {
     "data": {
      "text/plain": [
       "524"
      ]
     },
     "execution_count": 7,
     "metadata": {},
     "output_type": "execute_result"
    }
   ],
   "source": [
    "brandsDF.filter(~col(\"topBrand\")).count()"
   ]
  },
  {
   "cell_type": "markdown",
   "id": "0f4ed447-8f08-45de-ae28-622643431336",
   "metadata": {},
   "source": [
    "Print the number of Brands that have a `topBrand` field which is set to `true`"
   ]
  },
  {
   "cell_type": "code",
   "execution_count": 8,
   "id": "99b5cef8-c9d6-4fbc-b902-65dab1979c95",
   "metadata": {
    "scrolled": true
   },
   "outputs": [
    {
     "data": {
      "text/plain": [
       "31"
      ]
     },
     "execution_count": 8,
     "metadata": {},
     "output_type": "execute_result"
    }
   ],
   "source": [
    "brandsDF.filter(col(\"topBrand\")).count()"
   ]
  },
  {
   "cell_type": "markdown",
   "id": "31e7a2d7-087c-4b84-abc6-c4487f046910",
   "metadata": {
    "editable": true,
    "slideshow": {
     "slide_type": ""
    },
    "tags": []
   },
   "source": [
    "#### Many Brands do not have a field for `category`\n",
    "* While this is not necessary based on the data model, it is still a lack of useful information\n"
   ]
  },
  {
   "cell_type": "code",
   "execution_count": 9,
   "id": "8c5034c0-1442-40cd-a1d8-bf15c6e3461f",
   "metadata": {
    "editable": true,
    "slideshow": {
     "slide_type": ""
    },
    "tags": []
   },
   "outputs": [
    {
     "data": {
      "text/plain": [
       "155"
      ]
     },
     "execution_count": 9,
     "metadata": {},
     "output_type": "execute_result"
    }
   ],
   "source": [
    "brandsDF.filter(col(\"category\").isNull()).count()"
   ]
  },
  {
   "cell_type": "markdown",
   "id": "14cc1929-1e49-4920-a6dd-eefae3bd6278",
   "metadata": {},
   "source": [
    "#### More than half of Brands do not have a field for `categoryCode`\n",
    "* This field likely is generated from a foreign key and therefore is very valuable for calculating metrics\n",
    "* Comparing Receipt Items by Category for Brands that are in the same category could easily be done if all Brands had a corresponding code\n"
   ]
  },
  {
   "cell_type": "code",
   "execution_count": 10,
   "id": "e92e0f21-17e2-4c43-aa69-717630ad7fbe",
   "metadata": {},
   "outputs": [
    {
     "data": {
      "text/plain": [
       "650"
      ]
     },
     "execution_count": 10,
     "metadata": {},
     "output_type": "execute_result"
    }
   ],
   "source": [
    "brandsDF.filter(col(\"categoryCode\").isNull()).count()"
   ]
  },
  {
   "cell_type": "markdown",
   "id": "980c16c4-58be-407d-a724-54417c19930c",
   "metadata": {},
   "source": [
    "#### Many Brands that have a field for `brandCode` are set to only a numerical value which equals the `barcode` field\n",
    "* This calls into question if the `brandCode` field has any value\n"
   ]
  },
  {
   "cell_type": "code",
   "execution_count": 11,
   "id": "af474463-daf2-46bc-9c62-cd6bee5db1e1",
   "metadata": {},
   "outputs": [
    {
     "data": {
      "text/plain": [
       "54"
      ]
     },
     "execution_count": 11,
     "metadata": {},
     "output_type": "execute_result"
    }
   ],
   "source": [
    "brandsDF.filter(col(\"brandCode\") == col(\"barcode\")).count()"
   ]
  },
  {
   "cell_type": "markdown",
   "id": "4cf4a19e-836c-473b-a21e-811c24bbb05a",
   "metadata": {},
   "source": [
    "#### Many of the Brands in the file are test data\n",
    "* This could be an indication of test data mixed with production data"
   ]
  },
  {
   "cell_type": "code",
   "execution_count": 12,
   "id": "47008fd5-8dd9-4562-95b7-ad299a7109ea",
   "metadata": {},
   "outputs": [],
   "source": [
    "lowercaseDF = brandsDF.withColumn(\"name\", lower(col(\"name\")))"
   ]
  },
  {
   "cell_type": "code",
   "execution_count": 13,
   "id": "12de7d97-15b6-4ea4-be28-e502ea311f29",
   "metadata": {
    "editable": true,
    "slideshow": {
     "slide_type": ""
    },
    "tags": []
   },
   "outputs": [
    {
     "data": {
      "text/plain": [
       "432"
      ]
     },
     "execution_count": 13,
     "metadata": {},
     "output_type": "execute_result"
    }
   ],
   "source": [
    "lowercaseDF.filter(lowercaseDF.name.contains('test')).count()"
   ]
  }
 ],
 "metadata": {
  "kernelspec": {
   "display_name": "Python 3 (ipykernel)",
   "language": "python",
   "name": "python3"
  },
  "language_info": {
   "codemirror_mode": {
    "name": "ipython",
    "version": 3
   },
   "file_extension": ".py",
   "mimetype": "text/x-python",
   "name": "python",
   "nbconvert_exporter": "python",
   "pygments_lexer": "ipython3",
   "version": "3.13.3"
  }
 },
 "nbformat": 4,
 "nbformat_minor": 5
}
