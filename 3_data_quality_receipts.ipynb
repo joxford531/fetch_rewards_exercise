{
 "cells": [
  {
   "cell_type": "code",
   "execution_count": 1,
   "id": "56a38a93-2dd1-4ead-8538-c3b3aa451e8c",
   "metadata": {
    "editable": true,
    "slideshow": {
     "slide_type": ""
    },
    "tags": []
   },
   "outputs": [],
   "source": [
    "from pyspark.sql import SparkSession\n",
    "from pyspark.sql.functions import col, lower, array_contains, explode, exists\n",
    "from pyspark.sql.types import StringType"
   ]
  },
  {
   "cell_type": "code",
   "execution_count": 2,
   "id": "83a560c9-c069-4fd6-8e91-ca8f00cbd822",
   "metadata": {},
   "outputs": [
    {
     "name": "stderr",
     "output_type": "stream",
     "text": [
      "25/05/14 22:29:30 WARN Utils: Your hostname, Johns-MacBook-Pro.local resolves to a loopback address: 127.0.0.1; using 10.0.0.130 instead (on interface en0)\n",
      "25/05/14 22:29:30 WARN Utils: Set SPARK_LOCAL_IP if you need to bind to another address\n",
      "Setting default log level to \"WARN\".\n",
      "To adjust logging level use sc.setLogLevel(newLevel). For SparkR, use setLogLevel(newLevel).\n",
      "25/05/14 22:29:30 WARN NativeCodeLoader: Unable to load native-hadoop library for your platform... using builtin-java classes where applicable\n"
     ]
    }
   ],
   "source": [
    "# Initialize a Spark session\n",
    "spark = SparkSession.builder \\\n",
    "    .appName(\"Fetch Rewards Exercise\") \\\n",
    "    .getOrCreate()"
   ]
  },
  {
   "cell_type": "code",
   "execution_count": 3,
   "id": "75e66f33-0e2e-4ada-b3c1-158fd0541847",
   "metadata": {
    "scrolled": true
   },
   "outputs": [
    {
     "name": "stderr",
     "output_type": "stream",
     "text": [
      "25/05/14 22:29:32 WARN SparkStringUtils: Truncated the string representation of a plan since it was too large. This behavior can be adjusted by setting 'spark.sql.debug.maxToStringFields'.\n"
     ]
    }
   ],
   "source": [
    "receiptsDF = spark.read.json(\"receipts.jsonl\")"
   ]
  },
  {
   "cell_type": "code",
   "execution_count": 4,
   "id": "fee11a41-3d9f-4a2f-845b-8097d38cf5bc",
   "metadata": {
    "scrolled": true
   },
   "outputs": [
    {
     "name": "stdout",
     "output_type": "stream",
     "text": [
      "root\n",
      " |-- _id: struct (nullable = true)\n",
      " |    |-- $oid: string (nullable = true)\n",
      " |-- bonusPointsEarned: long (nullable = true)\n",
      " |-- bonusPointsEarnedReason: string (nullable = true)\n",
      " |-- createDate: struct (nullable = true)\n",
      " |    |-- $date: long (nullable = true)\n",
      " |-- dateScanned: struct (nullable = true)\n",
      " |    |-- $date: long (nullable = true)\n",
      " |-- finishedDate: struct (nullable = true)\n",
      " |    |-- $date: long (nullable = true)\n",
      " |-- modifyDate: struct (nullable = true)\n",
      " |    |-- $date: long (nullable = true)\n",
      " |-- pointsAwardedDate: struct (nullable = true)\n",
      " |    |-- $date: long (nullable = true)\n",
      " |-- pointsEarned: string (nullable = true)\n",
      " |-- purchaseDate: struct (nullable = true)\n",
      " |    |-- $date: long (nullable = true)\n",
      " |-- purchasedItemCount: long (nullable = true)\n",
      " |-- rewardsReceiptItemList: array (nullable = true)\n",
      " |    |-- element: struct (containsNull = true)\n",
      " |    |    |-- barcode: string (nullable = true)\n",
      " |    |    |-- brandCode: string (nullable = true)\n",
      " |    |    |-- competitiveProduct: boolean (nullable = true)\n",
      " |    |    |-- competitorRewardsGroup: string (nullable = true)\n",
      " |    |    |-- deleted: boolean (nullable = true)\n",
      " |    |    |-- description: string (nullable = true)\n",
      " |    |    |-- discountedItemPrice: string (nullable = true)\n",
      " |    |    |-- finalPrice: string (nullable = true)\n",
      " |    |    |-- itemNumber: string (nullable = true)\n",
      " |    |    |-- itemPrice: string (nullable = true)\n",
      " |    |    |-- metabriteCampaignId: string (nullable = true)\n",
      " |    |    |-- needsFetchReview: boolean (nullable = true)\n",
      " |    |    |-- needsFetchReviewReason: string (nullable = true)\n",
      " |    |    |-- originalFinalPrice: string (nullable = true)\n",
      " |    |    |-- originalMetaBriteBarcode: string (nullable = true)\n",
      " |    |    |-- originalMetaBriteDescription: string (nullable = true)\n",
      " |    |    |-- originalMetaBriteItemPrice: string (nullable = true)\n",
      " |    |    |-- originalMetaBriteQuantityPurchased: long (nullable = true)\n",
      " |    |    |-- originalReceiptItemText: string (nullable = true)\n",
      " |    |    |-- partnerItemId: string (nullable = true)\n",
      " |    |    |-- pointsEarned: string (nullable = true)\n",
      " |    |    |-- pointsNotAwardedReason: string (nullable = true)\n",
      " |    |    |-- pointsPayerId: string (nullable = true)\n",
      " |    |    |-- preventTargetGapPoints: boolean (nullable = true)\n",
      " |    |    |-- priceAfterCoupon: string (nullable = true)\n",
      " |    |    |-- quantityPurchased: long (nullable = true)\n",
      " |    |    |-- rewardsGroup: string (nullable = true)\n",
      " |    |    |-- rewardsProductPartnerId: string (nullable = true)\n",
      " |    |    |-- targetPrice: string (nullable = true)\n",
      " |    |    |-- userFlaggedBarcode: string (nullable = true)\n",
      " |    |    |-- userFlaggedDescription: string (nullable = true)\n",
      " |    |    |-- userFlaggedNewItem: boolean (nullable = true)\n",
      " |    |    |-- userFlaggedPrice: string (nullable = true)\n",
      " |    |    |-- userFlaggedQuantity: long (nullable = true)\n",
      " |-- rewardsReceiptStatus: string (nullable = true)\n",
      " |-- totalSpent: string (nullable = true)\n",
      " |-- userId: string (nullable = true)\n",
      "\n"
     ]
    }
   ],
   "source": [
    "receiptsDF.printSchema()"
   ]
  },
  {
   "cell_type": "markdown",
   "id": "08bd00c3-2347-4fe0-ab63-0365f89baf8e",
   "metadata": {
    "editable": true,
    "slideshow": {
     "slide_type": ""
    },
    "tags": []
   },
   "source": [
    "#### Print the number of lines of JSON objects, i.e. number of distinct receipts"
   ]
  },
  {
   "cell_type": "code",
   "execution_count": 5,
   "id": "ba1ef7b5-0d01-427d-b319-7c6af7d59385",
   "metadata": {},
   "outputs": [
    {
     "data": {
      "text/plain": [
       "1119"
      ]
     },
     "execution_count": 5,
     "metadata": {},
     "output_type": "execute_result"
    }
   ],
   "source": [
    "receiptsDF.count()"
   ]
  },
  {
   "cell_type": "markdown",
   "id": "832b6ac1-044f-484a-8e70-89a8716f84b6",
   "metadata": {},
   "source": [
    "#### Map all date structs to the actual `long` value to flatten Data Frame"
   ]
  },
  {
   "cell_type": "code",
   "execution_count": 6,
   "id": "1b5c0ec4-5011-4df5-bbee-817f07302124",
   "metadata": {},
   "outputs": [],
   "source": [
    "remappedDF = receiptsDF.withColumn(\"_id\", col(\"_id.$oid\")) \\\n",
    "    .withColumn(\"createDate\", col(\"createDate.$date\")) \\\n",
    "    .withColumn(\"dateScanned\", col(\"dateScanned.$date\")) \\\n",
    "    .withColumn(\"finishedDate\", col(\"finishedDate.$date\")) \\\n",
    "    .withColumn(\"modifyDate\", col(\"modifyDate.$date\")) \\\n",
    "    .withColumn(\"pointsAwardedDate\", col(\"pointsAwardedDate.$date\")) \\\n",
    "    .withColumn(\"purchaseDate\", col(\"purchaseDate.$date\"))"
   ]
  },
  {
   "cell_type": "code",
   "execution_count": 7,
   "id": "18cfc5aa-2ef7-41a1-8613-7c0c2522b078",
   "metadata": {},
   "outputs": [
    {
     "name": "stdout",
     "output_type": "stream",
     "text": [
      "root\n",
      " |-- _id: string (nullable = true)\n",
      " |-- bonusPointsEarned: long (nullable = true)\n",
      " |-- bonusPointsEarnedReason: string (nullable = true)\n",
      " |-- createDate: long (nullable = true)\n",
      " |-- dateScanned: long (nullable = true)\n",
      " |-- finishedDate: long (nullable = true)\n",
      " |-- modifyDate: long (nullable = true)\n",
      " |-- pointsAwardedDate: long (nullable = true)\n",
      " |-- pointsEarned: string (nullable = true)\n",
      " |-- purchaseDate: long (nullable = true)\n",
      " |-- purchasedItemCount: long (nullable = true)\n",
      " |-- rewardsReceiptItemList: array (nullable = true)\n",
      " |    |-- element: struct (containsNull = true)\n",
      " |    |    |-- barcode: string (nullable = true)\n",
      " |    |    |-- brandCode: string (nullable = true)\n",
      " |    |    |-- competitiveProduct: boolean (nullable = true)\n",
      " |    |    |-- competitorRewardsGroup: string (nullable = true)\n",
      " |    |    |-- deleted: boolean (nullable = true)\n",
      " |    |    |-- description: string (nullable = true)\n",
      " |    |    |-- discountedItemPrice: string (nullable = true)\n",
      " |    |    |-- finalPrice: string (nullable = true)\n",
      " |    |    |-- itemNumber: string (nullable = true)\n",
      " |    |    |-- itemPrice: string (nullable = true)\n",
      " |    |    |-- metabriteCampaignId: string (nullable = true)\n",
      " |    |    |-- needsFetchReview: boolean (nullable = true)\n",
      " |    |    |-- needsFetchReviewReason: string (nullable = true)\n",
      " |    |    |-- originalFinalPrice: string (nullable = true)\n",
      " |    |    |-- originalMetaBriteBarcode: string (nullable = true)\n",
      " |    |    |-- originalMetaBriteDescription: string (nullable = true)\n",
      " |    |    |-- originalMetaBriteItemPrice: string (nullable = true)\n",
      " |    |    |-- originalMetaBriteQuantityPurchased: long (nullable = true)\n",
      " |    |    |-- originalReceiptItemText: string (nullable = true)\n",
      " |    |    |-- partnerItemId: string (nullable = true)\n",
      " |    |    |-- pointsEarned: string (nullable = true)\n",
      " |    |    |-- pointsNotAwardedReason: string (nullable = true)\n",
      " |    |    |-- pointsPayerId: string (nullable = true)\n",
      " |    |    |-- preventTargetGapPoints: boolean (nullable = true)\n",
      " |    |    |-- priceAfterCoupon: string (nullable = true)\n",
      " |    |    |-- quantityPurchased: long (nullable = true)\n",
      " |    |    |-- rewardsGroup: string (nullable = true)\n",
      " |    |    |-- rewardsProductPartnerId: string (nullable = true)\n",
      " |    |    |-- targetPrice: string (nullable = true)\n",
      " |    |    |-- userFlaggedBarcode: string (nullable = true)\n",
      " |    |    |-- userFlaggedDescription: string (nullable = true)\n",
      " |    |    |-- userFlaggedNewItem: boolean (nullable = true)\n",
      " |    |    |-- userFlaggedPrice: string (nullable = true)\n",
      " |    |    |-- userFlaggedQuantity: long (nullable = true)\n",
      " |-- rewardsReceiptStatus: string (nullable = true)\n",
      " |-- totalSpent: string (nullable = true)\n",
      " |-- userId: string (nullable = true)\n",
      "\n"
     ]
    }
   ],
   "source": [
    "remappedDF.printSchema()"
   ]
  },
  {
   "cell_type": "markdown",
   "id": "3dad527a-35cc-497b-b769-ef58200c3c9b",
   "metadata": {},
   "source": [
    "#### Explode the `rewardsReceiptItemList` array so that the total number of new rows represents the number of items scanned in total\n",
    "This makes it much easier to filter for receipts that have at least one item with specific criteria"
   ]
  },
  {
   "cell_type": "code",
   "execution_count": 8,
   "id": "e51272b2-044a-4e21-aeb1-037166229606",
   "metadata": {},
   "outputs": [],
   "source": [
    "explodedDF = remappedDF.select(remappedDF[\"*\"], explode(\"rewardsReceiptItemList\").alias(\"receipt_item\")).drop(\"rewardsReceiptItemList\")"
   ]
  },
  {
   "cell_type": "code",
   "execution_count": 9,
   "id": "acb7c962-a1b8-48f8-b42d-13c245a44fb4",
   "metadata": {
    "scrolled": true
   },
   "outputs": [
    {
     "name": "stdout",
     "output_type": "stream",
     "text": [
      "root\n",
      " |-- _id: string (nullable = true)\n",
      " |-- bonusPointsEarned: long (nullable = true)\n",
      " |-- bonusPointsEarnedReason: string (nullable = true)\n",
      " |-- createDate: long (nullable = true)\n",
      " |-- dateScanned: long (nullable = true)\n",
      " |-- finishedDate: long (nullable = true)\n",
      " |-- modifyDate: long (nullable = true)\n",
      " |-- pointsAwardedDate: long (nullable = true)\n",
      " |-- pointsEarned: string (nullable = true)\n",
      " |-- purchaseDate: long (nullable = true)\n",
      " |-- purchasedItemCount: long (nullable = true)\n",
      " |-- rewardsReceiptStatus: string (nullable = true)\n",
      " |-- totalSpent: string (nullable = true)\n",
      " |-- userId: string (nullable = true)\n",
      " |-- receipt_item: struct (nullable = true)\n",
      " |    |-- barcode: string (nullable = true)\n",
      " |    |-- brandCode: string (nullable = true)\n",
      " |    |-- competitiveProduct: boolean (nullable = true)\n",
      " |    |-- competitorRewardsGroup: string (nullable = true)\n",
      " |    |-- deleted: boolean (nullable = true)\n",
      " |    |-- description: string (nullable = true)\n",
      " |    |-- discountedItemPrice: string (nullable = true)\n",
      " |    |-- finalPrice: string (nullable = true)\n",
      " |    |-- itemNumber: string (nullable = true)\n",
      " |    |-- itemPrice: string (nullable = true)\n",
      " |    |-- metabriteCampaignId: string (nullable = true)\n",
      " |    |-- needsFetchReview: boolean (nullable = true)\n",
      " |    |-- needsFetchReviewReason: string (nullable = true)\n",
      " |    |-- originalFinalPrice: string (nullable = true)\n",
      " |    |-- originalMetaBriteBarcode: string (nullable = true)\n",
      " |    |-- originalMetaBriteDescription: string (nullable = true)\n",
      " |    |-- originalMetaBriteItemPrice: string (nullable = true)\n",
      " |    |-- originalMetaBriteQuantityPurchased: long (nullable = true)\n",
      " |    |-- originalReceiptItemText: string (nullable = true)\n",
      " |    |-- partnerItemId: string (nullable = true)\n",
      " |    |-- pointsEarned: string (nullable = true)\n",
      " |    |-- pointsNotAwardedReason: string (nullable = true)\n",
      " |    |-- pointsPayerId: string (nullable = true)\n",
      " |    |-- preventTargetGapPoints: boolean (nullable = true)\n",
      " |    |-- priceAfterCoupon: string (nullable = true)\n",
      " |    |-- quantityPurchased: long (nullable = true)\n",
      " |    |-- rewardsGroup: string (nullable = true)\n",
      " |    |-- rewardsProductPartnerId: string (nullable = true)\n",
      " |    |-- targetPrice: string (nullable = true)\n",
      " |    |-- userFlaggedBarcode: string (nullable = true)\n",
      " |    |-- userFlaggedDescription: string (nullable = true)\n",
      " |    |-- userFlaggedNewItem: boolean (nullable = true)\n",
      " |    |-- userFlaggedPrice: string (nullable = true)\n",
      " |    |-- userFlaggedQuantity: long (nullable = true)\n",
      "\n"
     ]
    }
   ],
   "source": [
    "explodedDF.printSchema()"
   ]
  },
  {
   "cell_type": "markdown",
   "id": "07fca7fb-c3a2-4be2-bb84-3a4ffe9c987e",
   "metadata": {},
   "source": [
    "#### Receipts that have an item with the description `ITEM NOT FOUND`\n",
    "* There are a large number of receipt items that have this description\n",
    "* This could be due to a process that calculates reward points at a certain workflow transition"
   ]
  },
  {
   "cell_type": "code",
   "execution_count": 10,
   "id": "dd21ec89-58a6-4792-9a24-98ffcc7273c9",
   "metadata": {},
   "outputs": [
    {
     "data": {
      "text/plain": [
       "165"
      ]
     },
     "execution_count": 10,
     "metadata": {},
     "output_type": "execute_result"
    }
   ],
   "source": [
    "notFoundAgg = explodedDF.filter(col(\"receipt_item.description\").contains(\"ITEM NOT FOUND\")).groupBy(\"_id\").count()\n",
    "notFoundAgg.count()"
   ]
  },
  {
   "cell_type": "markdown",
   "id": "d59018ed-031e-4b6e-aeff-2a42585cb277",
   "metadata": {
    "editable": true,
    "slideshow": {
     "slide_type": ""
    },
    "tags": []
   },
   "source": [
    "#### Receipt Items that have a valid description but no brand code\n",
    "* There are many receipt items that do not have a brand code to match what appears to be a valid item\n",
    "* This prevents using the data to calculate metrics for brands for items that do exist in the system\n",
    "\n",
    "For refernce adding a `~` character negates the condition"
   ]
  },
  {
   "cell_type": "code",
   "execution_count": 11,
   "id": "539af965-2278-4207-8280-6586204cc837",
   "metadata": {
    "editable": true,
    "slideshow": {
     "slide_type": ""
    },
    "tags": []
   },
   "outputs": [
    {
     "data": {
      "text/plain": [
       "401"
      ]
     },
     "execution_count": 11,
     "metadata": {},
     "output_type": "execute_result"
    }
   ],
   "source": [
    "noBrandCodeAgg = explodedDF.filter(\n",
    "    ~col(\"receipt_item.description\").contains(\"ITEM NOT FOUND\") & \n",
    "    col(\"receipt_item.description\").isNotNull() &\n",
    "    col(\"receipt_item.brandCode\").isNull()\n",
    ").groupBy(\"_id\").count()\n",
    "\n",
    "noBrandCodeAgg.count()"
   ]
  },
  {
   "cell_type": "markdown",
   "id": "626ff99c-6aaf-45cf-97dd-fa701c899a5e",
   "metadata": {},
   "source": [
    "#### Valid Receipt Items that do not indicate if they are a competitive product\n",
    "* There are receipt items that appear to be valid items with a `description` and `brandCode` but no `competitiveProduct`\n",
    "* This prevents using the data to calculate metrics for brands for items that should indicate if they are competitive\n",
    "* There are many items have have a value of `false` for the `competitiveProduct` field so we can't assume a lack of a field means it isn't competitive"
   ]
  },
  {
   "cell_type": "code",
   "execution_count": 12,
   "id": "a899b46d-3f4d-4bb0-a579-7ed1a359a746",
   "metadata": {},
   "outputs": [
    {
     "data": {
      "text/plain": [
       "84"
      ]
     },
     "execution_count": 12,
     "metadata": {},
     "output_type": "execute_result"
    }
   ],
   "source": [
    "noCompetitiveItemAgg = explodedDF.filter(\n",
    "    ~col(\"receipt_item.description\").contains(\"ITEM NOT FOUND\") & \n",
    "    col(\"receipt_item.description\").isNotNull() &\n",
    "    col(\"receipt_item.brandCode\").isNotNull() &\n",
    "    col(\"receipt_item.competitiveProduct\").isNull()\n",
    ").groupBy(\"_id\").count()\n",
    "\n",
    "noCompetitiveItemAgg.count()"
   ]
  },
  {
   "cell_type": "markdown",
   "id": "fc1ec86f-bce2-4f06-97c5-a8bfeefc590d",
   "metadata": {},
   "source": [
    "This shows items that do have a non-null `competitiveProduct` field that is `false`"
   ]
  },
  {
   "cell_type": "code",
   "execution_count": 13,
   "id": "fbea8f99-a00b-42a0-9b3e-d94d2415151a",
   "metadata": {},
   "outputs": [
    {
     "data": {
      "text/plain": [
       "31"
      ]
     },
     "execution_count": 13,
     "metadata": {},
     "output_type": "execute_result"
    }
   ],
   "source": [
    "noCompetitiveItemAgg = explodedDF.filter(\n",
    "    ~col(\"receipt_item.description\").contains(\"ITEM NOT FOUND\") & \n",
    "    col(\"receipt_item.description\").isNotNull() &\n",
    "    col(\"receipt_item.brandCode\").isNotNull() &\n",
    "    ~col(\"receipt_item.competitiveProduct\")\n",
    ").groupBy(\"_id\").count()\n",
    "\n",
    "noCompetitiveItemAgg.count()"
   ]
  },
  {
   "cell_type": "markdown",
   "id": "60e8c688-c5c7-41bd-bfd6-8048201f5f8b",
   "metadata": {},
   "source": [
    "This shows items that do have a non-null `competitiveProduct` field that is `true`"
   ]
  },
  {
   "cell_type": "code",
   "execution_count": 14,
   "id": "2152dd7e-4373-41f5-9d7d-e69a14111be4",
   "metadata": {},
   "outputs": [
    {
     "data": {
      "text/plain": [
       "29"
      ]
     },
     "execution_count": 14,
     "metadata": {},
     "output_type": "execute_result"
    }
   ],
   "source": [
    "noCompetitiveItemAgg = explodedDF.filter(\n",
    "    ~col(\"receipt_item.description\").contains(\"ITEM NOT FOUND\") & \n",
    "    col(\"receipt_item.description\").isNotNull() &\n",
    "    col(\"receipt_item.brandCode\").isNotNull() &\n",
    "    col(\"receipt_item.competitiveProduct\")\n",
    ").groupBy(\"_id\").count()\n",
    "\n",
    "noCompetitiveItemAgg.count()"
   ]
  }
 ],
 "metadata": {
  "kernelspec": {
   "display_name": "Python 3 (ipykernel)",
   "language": "python",
   "name": "python3"
  },
  "language_info": {
   "codemirror_mode": {
    "name": "ipython",
    "version": 3
   },
   "file_extension": ".py",
   "mimetype": "text/x-python",
   "name": "python",
   "nbconvert_exporter": "python",
   "pygments_lexer": "ipython3",
   "version": "3.13.3"
  }
 },
 "nbformat": 4,
 "nbformat_minor": 5
}
